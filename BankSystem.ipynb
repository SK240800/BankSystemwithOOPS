{
  "nbformat": 4,
  "nbformat_minor": 0,
  "metadata": {
    "colab": {
      "provenance": []
    },
    "kernelspec": {
      "name": "python3",
      "display_name": "Python 3"
    },
    "language_info": {
      "name": "python"
    }
  },
  "cells": [
    {
      "cell_type": "code",
      "execution_count": 1,
      "metadata": {
        "id": "_JknAiOcYFaG"
      },
      "outputs": [],
      "source": [
        "class BankAccount:\n",
        "    def __init__(self, account_holder, initial_balance):\n",
        "        self.account_holder=account_holder,\n",
        "        self.initial_balance=initial_balance,\n",
        "        self.balance=initial_balance\n",
        "\n",
        "    def deposit(self,dep):\n",
        "        self.balance=self.balance+dep\n",
        "    def withdraw(self,wit):\n",
        "        self.balance=self.balance-wit\n",
        "    def transfer(self,elf,x):\n",
        "        self.balance=self.balance-x\n",
        "        elf.balance=elf.balance+x"
      ]
    }
  ]
}